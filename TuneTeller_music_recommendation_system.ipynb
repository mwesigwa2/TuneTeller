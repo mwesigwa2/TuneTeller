{
 "cells": [
  {
   "cell_type": "code",
   "execution_count": 16,
   "metadata": {},
   "outputs": [
    {
     "name": "stdout",
     "output_type": "stream",
     "text": [
      "[[0.01024843 0.82482599 0.19073524 0.4263629  0.02243852 0.18181818\n",
      "  0.15386234 0.74114059 1.         0.51444066 0.59603317 0.75\n",
      "  0.26243209]\n",
      " [0.19999772 0.72041763 0.3144808  0.35008137 0.00626025 0.09090909\n",
      "  0.12439486 0.69216224 1.         0.07100517 0.6544742  0.75\n",
      "  0.57793565]]\n",
      "Inspector Norse\n",
      "Stock Exchange\n",
      "Let's Lovedance Tonight - Danny Krivit Re-edit - Dk Re-Edit\n",
      "200 Press\n",
      "Ferus Gallery\n",
      "Boys\n",
      "Abataka - Original Mix\n",
      "It Looks Like Love\n",
      "You & Me - Baauer Remix\n",
      "Johnny Was\n"
     ]
    },
    {
     "data": {
      "text/plain": [
       "' sig_kernel = sigmoid_kernel(normalized_df)\\n\\nprint(\"Recommended Songs:\")\\nprint(generate_recommendation(\\'Parallel Lines\\',sig_kernel).values)  '"
      ]
     },
     "execution_count": 16,
     "metadata": {},
     "output_type": "execute_result"
    }
   ],
   "source": [
    "import pandas as pd\n",
    "import numpy as np\n",
    "from sklearn.metrics.pairwise import sigmoid_kernel\n",
    "from sklearn.metrics.pairwise import cosine_similarity\n",
    "from sklearn import preprocessing\n",
    "\n",
    "music=pd.read_csv(\"data.csv\")\n",
    "\n",
    "music.head()\n",
    "\n",
    "\n",
    "\n",
    "#perform feature scaling\n",
    "\n",
    "feature_cols=['acousticness','danceability','duration_ms','energy','instrumentalness','key','liveness','loudness','mode','speechiness','tempo','time_signature','valence',]\n",
    "\n",
    "from sklearn.preprocessing import MinMaxScaler\n",
    "scaler = MinMaxScaler()\n",
    "normalized_df =scaler.fit_transform(music[feature_cols])\n",
    "\n",
    "print(normalized_df[:2])\n",
    "\n",
    "#build recommender using cosine similarity\n",
    "\n",
    "# Create a pandas series with Track names as indices and indices as series values \n",
    "indices = pd.Series(music.index, index=music['song_title']).drop_duplicates()\n",
    "\n",
    "# Create cosine similarity matrix based on given matrix\n",
    "cosine = cosine_similarity(normalized_df)\n",
    "\n",
    "sorted(list(enumerate(cosine[0])),reverse=True,key=lambda x:x[1])[1:11]\n",
    "\n",
    "def recommend(song):\n",
    "    song_index = music[music['song_title'] == song].index[0]\n",
    "    distances = cosine[song_index]\n",
    "    songs_list = sorted(list(enumerate(distances)),reverse=True,key=lambda x:x[1])[1:11]\n",
    "\n",
    "    for i in songs_list:\n",
    "        print(music.iloc[i[0]].song_title)\n",
    "\n",
    "recommend('Parallel Lines')\n",
    "\n",
    "\"\"\"def generate_recommendation(song_title, model_type=cosine ):\n",
    "    \"\"\" \"\"\"\n",
    "    Purpose: Function for song recommendations \n",
    "    Inputs: track name and type of similarity model\n",
    "    Output: Pandas series of recommended songs \n",
    "\"\"\"    \"\"\"\n",
    "    # Get song indices\n",
    "    index=indices[song_title]\n",
    "    # Get list of songs for given songs\n",
    "    score=list(enumerate(model_type[indices['It Looks Like Love']]))\n",
    "    # Sort the most similar songs\n",
    "    similarity_score = sorted(score,key = lambda x:x[1],reverse = True)\n",
    "    # Select the top-10 recommend songs\n",
    "    similarity_score = similarity_score[1:11]\n",
    "    top_songs_index = [i[0] for i in similarity_score]\n",
    "    # Top 10 recommende songs\n",
    "    top_songs=music['song_title'].iloc[top_songs_index]\n",
    "    return top_songs\n",
    "\"\"\"\n",
    "\n",
    "\"\"\" print(\"Recommended Songs:\")\n",
    "print(generate_recommendation('It Looks Like Love',cosine).values)\n",
    "\"\"\"\n",
    "import pickle\n",
    "\n",
    "pickle.dump(music,open('songs.pkl','wb'))\n",
    "\n",
    "music['song_title'].values\n",
    "\n",
    "pickle.dump(music.to_dict(),open('songs_dict.pkl','wb'))\n",
    "\n",
    "pickle.dump(cosine,open('similarity.pkl','wb'))\n",
    "\n",
    "# Create sigmoid kernel matrix based on given matrix\n",
    "\"\"\" sig_kernel = sigmoid_kernel(normalized_df)\n",
    "\n",
    "print(\"Recommended Songs:\")\n",
    "print(generate_recommendation('Parallel Lines',sig_kernel).values)  \"\"\""
   ]
  }
 ],
 "metadata": {
  "kernelspec": {
   "display_name": "Python 3",
   "language": "python",
   "name": "python3"
  },
  "language_info": {
   "codemirror_mode": {
    "name": "ipython",
    "version": 3
   },
   "file_extension": ".py",
   "mimetype": "text/x-python",
   "name": "python",
   "nbconvert_exporter": "python",
   "pygments_lexer": "ipython3",
   "version": "3.11.3"
  }
 },
 "nbformat": 4,
 "nbformat_minor": 2
}
